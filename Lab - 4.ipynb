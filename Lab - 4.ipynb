{
 "cells": [
  {
   "cell_type": "code",
   "execution_count": 4,
   "metadata": {},
   "outputs": [
    {
     "name": "stdout",
     "output_type": "stream",
     "text": [
      "Do you have CNIC? yes\n",
      "He has valid CNIC\n",
      "Is your name in the listno\n",
      "You cannot cast vote\n"
     ]
    }
   ],
   "source": [
    "user_cnic = (input(\"Do you have CNIC? \").lower())\n",
    "if user_cnic == 'yes':\n",
    "    print(\"He has valid CNIC\")\n",
    "    voter_list = (input(\"Is your name in the list\").lower())\n",
    "    if voter_list == 'yes':\n",
    "        print(\"You are registered voter\")\n",
    "        print(\"you can cast your vote\")\n",
    "    else:\n",
    "        print(\"You cannot cast vote\")\n",
    "    \n",
    "else:\n",
    "    print(\"You cannot cast vote\")"
   ]
  },
  {
   "cell_type": "code",
   "execution_count": 6,
   "metadata": {},
   "outputs": [
    {
     "name": "stdout",
     "output_type": "stream",
     "text": [
      "Is your age is 18? YES\n",
      "He has 18 age\n",
      "Do you have ticketNO\n",
      "You cannot go to watch movie\n"
     ]
    }
   ],
   "source": [
    "user_age = (input(\"Is your age is 18? \").lower())\n",
    "if user_age == 'yes':\n",
    "    print(\"He has 18 age\")\n",
    "    ticket_movie = (input(\"Do you have ticket\").lower())\n",
    "    if ticket_movie == 'yes':\n",
    "        print(\"ok\")\n",
    "        print(\"you can go into cinema to watch movie\")\n",
    "    else:\n",
    "        print(\"You cannot go into cinema to watch movie\")\n",
    "    \n",
    "else:\n",
    "    print(\"You cannot go into cinema to watch movie\")"
   ]
  },
  {
   "cell_type": "code",
   "execution_count": 8,
   "metadata": {},
   "outputs": [
    {
     "name": "stdout",
     "output_type": "stream",
     "text": [
      "enter a number5\n",
      "enter another number10\n",
      "5 is less then 10\n"
     ]
    }
   ],
   "source": [
    "num1 = int(input(\"enter a number\"))\n",
    "num2 = int(input(\"enter another number\"))\n",
    "if num1>num2:\n",
    "    print(f\"{num1} is greater than {num2}\")\n",
    "elif num1==num2:\n",
    "    print(f\"{num1} is equal to {num2}\")\n",
    "elif num1<num2:\n",
    "    print(f\"{num1} is less then {num2}\")\n",
    "else:\n",
    "    print(\"uffffffff\")"
   ]
  },
  {
   "cell_type": "code",
   "execution_count": 10,
   "metadata": {},
   "outputs": [
    {
     "name": "stdout",
     "output_type": "stream",
     "text": [
      "Do you have CNIC? yes\n",
      "Is your name in the listno\n",
      "not allowed\n"
     ]
    }
   ],
   "source": [
    "# user_cnic = (input(\"Do you have CNIC? \").lower())\n",
    "# voter_list = (input(\"Is your name in the list\").lower())\n",
    "# if user_cnic == 'yes' and voter_list == 'yes':        \n",
    "#         print(\"Allowed to cast\")\n",
    "# else:\n",
    "#         print(\"not allowed\")"
   ]
  },
  {
   "cell_type": "code",
   "execution_count": null,
   "metadata": {},
   "outputs": [],
   "source": []
  }
 ],
 "metadata": {
  "kernelspec": {
   "display_name": "Python 3",
   "language": "python",
   "name": "python3"
  },
  "language_info": {
   "codemirror_mode": {
    "name": "ipython",
    "version": 3
   },
   "file_extension": ".py",
   "mimetype": "text/x-python",
   "name": "python",
   "nbconvert_exporter": "python",
   "pygments_lexer": "ipython3",
   "version": "3.7.3"
  }
 },
 "nbformat": 4,
 "nbformat_minor": 2
}
